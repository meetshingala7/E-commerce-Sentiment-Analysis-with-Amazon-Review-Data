{
  "cells": [
    {
      "cell_type": "code",
      "execution_count": 1,
      "metadata": {
        "id": "FWYMAaqc-nC1"
      },
      "outputs": [],
      "source": [
        "import pandas as pd"
      ]
    },
    {
      "attachments": {},
      "cell_type": "markdown",
      "metadata": {},
      "source": [
        "<h3>The below code block reads the data from txt file of size 1.48 GB, It contains 36,00,001 Rows of data<br>\n",
        "The format of the data \"__labeln__ Description:Text data\\n\"\n",
        "\n",
        "Because of the '\\n' delimiter, I cannot use pandas hence I use the file handling concept\n",
        "</h3>"
      ]
    },
    {
      "cell_type": "code",
      "execution_count": 2,
      "metadata": {},
      "outputs": [],
      "source": [
        "with open('sample.txt', 'rb') as file:\n",
        "    byte_sequence = file.read()\n",
        "    data_old = byte_sequence.decode(encoding='utf-8', errors='ignore')"
      ]
    },
    {
      "cell_type": "code",
      "execution_count": 3,
      "metadata": {},
      "outputs": [],
      "source": [
        "data = data_old.split('\\n')"
      ]
    },
    {
      "cell_type": "code",
      "execution_count": 4,
      "metadata": {},
      "outputs": [
        {
          "data": {
            "text/plain": [
              "18"
            ]
          },
          "execution_count": 4,
          "metadata": {},
          "output_type": "execute_result"
        }
      ],
      "source": [
        "len(data)"
      ]
    },
    {
      "attachments": {},
      "cell_type": "markdown",
      "metadata": {},
      "source": [
        "<h3>\n",
        "This code block seperates the data into 9 seperate csv files for faster processing, I ran it on a total of 4 different computers. 3 computers were from my college which took a approximate of 1 hour in run time and separate for error correction and 40 mins on Personal Laptop\n",
        "</h3>"
      ]
    },
    {
      "cell_type": "code",
      "execution_count": 5,
      "metadata": {},
      "outputs": [],
      "source": [
        "length1=len(data)\n",
        "data1=[]\n",
        "data2=[]\n",
        "data3=[]\n",
        "data4=[]\n",
        "data5=[]\n",
        "data6=[]\n",
        "data7=[]\n",
        "data8=[]\n",
        "data9=[]\n",
        "for i in range(len(data)):\n",
        "    if i%9==0:\n",
        "        data1.append(data[i])\n",
        "    elif i%9==1:\n",
        "        data2.append(data[i])\n",
        "    elif i%9==2:\n",
        "        data3.append(data[i])\n",
        "    elif i%9==3:\n",
        "        data4.append(data[i])\n",
        "    elif i%9==4:\n",
        "        data5.append(data[i])\n",
        "    elif i%9==5:\n",
        "        data6.append(data[i])\n",
        "    elif i%9==6:\n",
        "        data7.append(data[i])\n",
        "    elif i%9==7:\n",
        "        data8.append(data[i])\n",
        "    elif i%9==8:\n",
        "        data9.append(data[i])"
      ]
    },
    {
      "cell_type": "code",
      "execution_count": 6,
      "metadata": {},
      "outputs": [
        {
          "name": "stdout",
          "output_type": "stream",
          "text": [
            "2\n"
          ]
        }
      ],
      "source": [
        "print(len(data1))"
      ]
    },
    {
      "attachments": {},
      "cell_type": "markdown",
      "metadata": {},
      "source": [
        "<h3>\n",
        "The following blocks of code are to derive the labels from the data, The Logic:<br>\n",
        "We will parse the strings till we encounter the first whitespace and we have derived the label, for all the data points.\n",
        "</h3>"
      ]
    },
    {
      "cell_type": "code",
      "execution_count": 14,
      "metadata": {
        "id": "CXLuqccVBSfR"
      },
      "outputs": [],
      "source": [
        "labels1=[]\n",
        "for i in range(len(data1)):\n",
        "  str1=\"\"\n",
        "  for j in range(0,len(data1[i])):\n",
        "    if data1[i][j]!=' ':\n",
        "      str1+=(data1[i][j])\n",
        "    else:\n",
        "      break\n",
        "  labels1.append(str1)"
      ]
    },
    {
      "cell_type": "code",
      "execution_count": 15,
      "metadata": {},
      "outputs": [],
      "source": [
        "labels2=[]\n",
        "for i in range(len(data2)):\n",
        "  str1=\"\"\n",
        "  for j in range(0,len(data2[i])):\n",
        "    if data2[i][j]!=' ':\n",
        "      str1+=(data2[i][j])\n",
        "    else:\n",
        "      break\n",
        "  labels2.append(str1)"
      ]
    },
    {
      "cell_type": "code",
      "execution_count": 16,
      "metadata": {},
      "outputs": [],
      "source": [
        "labels3=[]\n",
        "for i in range(len(data3)):\n",
        "  str1=\"\"\n",
        "  for j in range(0,len(data3[i])):\n",
        "    if data3[i][j]!=' ':\n",
        "      str1+=(data3[i][j])\n",
        "    else:\n",
        "      break\n",
        "  labels3.append(str1)"
      ]
    },
    {
      "cell_type": "code",
      "execution_count": 17,
      "metadata": {},
      "outputs": [],
      "source": [
        "labels4=[]\n",
        "for i in range(len(data4)):\n",
        "  str1=\"\"\n",
        "  for j in range(0,len(data4[i])):\n",
        "    if data4[i][j]!=' ':\n",
        "      str1+=(data4[i][j])\n",
        "    else:\n",
        "      break\n",
        "  labels4.append(str1)"
      ]
    },
    {
      "cell_type": "code",
      "execution_count": 18,
      "metadata": {},
      "outputs": [],
      "source": [
        "labels5=[]\n",
        "for i in range(len(data5)):\n",
        "  str1=\"\"\n",
        "  for j in range(0,len(data5[i])):\n",
        "    if data5[i][j]!=' ':\n",
        "      str1+=(data5[i][j])\n",
        "    else:\n",
        "      break\n",
        "  labels5.append(str1)"
      ]
    },
    {
      "cell_type": "code",
      "execution_count": 19,
      "metadata": {},
      "outputs": [],
      "source": [
        "labels6=[]\n",
        "for i in range(len(data6)):\n",
        "  str1=\"\"\n",
        "  for j in range(0,len(data6[i])):\n",
        "    if data6[i][j]!=' ':\n",
        "      str1+=(data6[i][j])\n",
        "    else:\n",
        "      break\n",
        "  labels6.append(str1)"
      ]
    },
    {
      "cell_type": "code",
      "execution_count": 20,
      "metadata": {},
      "outputs": [],
      "source": [
        "labels7=[]\n",
        "for i in range(len(data7)):\n",
        "  str1=\"\"\n",
        "  for j in range(0,len(data7[i])):\n",
        "    if data7[i][j]!=' ':\n",
        "      str1+=(data7[i][j])\n",
        "    else:\n",
        "      break\n",
        "  labels7.append(str1)"
      ]
    },
    {
      "cell_type": "code",
      "execution_count": 21,
      "metadata": {},
      "outputs": [],
      "source": [
        "labels8=[]\n",
        "for i in range(len(data8)):\n",
        "  str1=\"\"\n",
        "  for j in range(0,len(data8[i])):\n",
        "    if data8[i][j]!=' ':\n",
        "      str1+=(data8[i][j])\n",
        "    else:\n",
        "      break\n",
        "  labels8.append(str1)"
      ]
    },
    {
      "cell_type": "code",
      "execution_count": 22,
      "metadata": {},
      "outputs": [],
      "source": [
        "labels9=[]\n",
        "for i in range(len(data9)):\n",
        "  str1=\"\"\n",
        "  for j in range(0,len(data9[i])):\n",
        "    if data9[i][j]!=' ':\n",
        "      str1+=(data9[i][j])\n",
        "    else:\n",
        "      break\n",
        "  labels9.append(str1)"
      ]
    },
    {
      "cell_type": "code",
      "execution_count": 23,
      "metadata": {
        "colab": {
          "base_uri": "https://localhost:8080/"
        },
        "id": "GI9bnClxChDM",
        "outputId": "a65af2fa-e66d-4b01-badf-bfad98790e45"
      },
      "outputs": [
        {
          "name": "stdout",
          "output_type": "stream",
          "text": [
            "400000\n"
          ]
        }
      ],
      "source": [
        "print(len(labels4))"
      ]
    },
    {
      "attachments": {},
      "cell_type": "markdown",
      "metadata": {},
      "source": [
        "<h3>The below code block will parse the strings till it encounters ':' as this contains the label and the brief description<br>and append it to a list</h3>"
      ]
    },
    {
      "cell_type": "code",
      "execution_count": 25,
      "metadata": {
        "id": "_wYYaOOxCufI"
      },
      "outputs": [],
      "source": [
        "summarization1=[]\n",
        "for i in range(len(data1)):\n",
        "  str1=\"\"\n",
        "  j=len(data1[i])\n",
        "  for k in range(0,j):\n",
        "    if data1[i][k]!=':':\n",
        "      str1+=data1[i][k]\n",
        "    else:\n",
        "      break\n",
        "  summarization1.append(str1)"
      ]
    },
    {
      "cell_type": "code",
      "execution_count": 26,
      "metadata": {},
      "outputs": [],
      "source": [
        "summarization2=[]\n",
        "for i in range(len(data2)):\n",
        "  str1=\"\"\n",
        "  j=len(data2[i])\n",
        "  for k in range(0,j):\n",
        "    if data2[i][k]!=':':\n",
        "      str1+=data2[i][k]\n",
        "    else:\n",
        "      break\n",
        "  summarization2.append(str1)"
      ]
    },
    {
      "cell_type": "code",
      "execution_count": 27,
      "metadata": {},
      "outputs": [],
      "source": [
        "summarization3=[]\n",
        "for i in range(len(data3)):\n",
        "  str1=\"\"\n",
        "  j=len(data3[i])\n",
        "  for k in range(0,j):\n",
        "    if data3[i][k]!=':':\n",
        "      str1+=data3[i][k]\n",
        "    else:\n",
        "      break\n",
        "  summarization3.append(str1)"
      ]
    },
    {
      "cell_type": "code",
      "execution_count": 28,
      "metadata": {},
      "outputs": [],
      "source": [
        "summarization4=[]\n",
        "for i in range(len(data4)):\n",
        "  str1=\"\"\n",
        "  j=len(data4[i])\n",
        "  for k in range(0,j):\n",
        "    if data4[i][k]!=':':\n",
        "      str1+=data4[i][k]\n",
        "    else:\n",
        "      break\n",
        "  summarization4.append(str1)"
      ]
    },
    {
      "cell_type": "code",
      "execution_count": 29,
      "metadata": {},
      "outputs": [],
      "source": [
        "summarization5=[]\n",
        "for i in range(len(data5)):\n",
        "  str1=\"\"\n",
        "  j=len(data5[i])\n",
        "  for k in range(0,j):\n",
        "    if data5[i][k]!=':':\n",
        "      str1+=data5[i][k]\n",
        "    else:\n",
        "      break\n",
        "  summarization5.append(str1)"
      ]
    },
    {
      "cell_type": "code",
      "execution_count": 30,
      "metadata": {},
      "outputs": [],
      "source": [
        "summarization6=[]\n",
        "for i in range(len(data6)):\n",
        "  str1=\"\"\n",
        "  j=len(data6[i])\n",
        "  for k in range(0,j):\n",
        "    if data6[i][k]!=':':\n",
        "      str1+=data6[i][k]\n",
        "    else:\n",
        "      break\n",
        "  summarization6.append(str1)"
      ]
    },
    {
      "cell_type": "code",
      "execution_count": 31,
      "metadata": {},
      "outputs": [],
      "source": [
        "summarization7=[]\n",
        "for i in range(len(data7)):\n",
        "  str1=\"\"\n",
        "  j=len(data7[i])\n",
        "  for k in range(0,j):\n",
        "    if data7[i][k]!=':':\n",
        "      str1+=data7[i][k]\n",
        "    else:\n",
        "      break\n",
        "  summarization7.append(str1)"
      ]
    },
    {
      "cell_type": "code",
      "execution_count": 32,
      "metadata": {},
      "outputs": [],
      "source": [
        "summarization8=[]\n",
        "for i in range(len(data8)):\n",
        "  str1=\"\"\n",
        "  j=len(data8[i])\n",
        "  for k in range(0,j):\n",
        "    if data8[i][k]!=':':\n",
        "      str1+=data8[i][k]\n",
        "    else:\n",
        "      break\n",
        "  summarization8.append(str1)"
      ]
    },
    {
      "cell_type": "code",
      "execution_count": 33,
      "metadata": {},
      "outputs": [],
      "source": [
        "summarization9=[]\n",
        "for i in range(len(data9)):\n",
        "  str1=\"\"\n",
        "  j=len(data9[i])\n",
        "  for k in range(0,j):\n",
        "    if data9[i][k]!=':':\n",
        "      str1+=data9[i][k]\n",
        "    else:\n",
        "      break\n",
        "  summarization9.append(str1)"
      ]
    },
    {
      "attachments": {},
      "cell_type": "markdown",
      "metadata": {},
      "source": [
        "<h3>This code block will replace the labels and a white space to an empty string which leaves us with only the brief description</h3>"
      ]
    },
    {
      "cell_type": "code",
      "execution_count": null,
      "metadata": {},
      "outputs": [],
      "source": [
        "sum_pro=[]\n",
        "for i in range(len(summarization)):\n",
        "  str1=''\n",
        "  # print(summarization[i][9],i)\n",
        "  if summarization[i][9]=='1':\n",
        "    sum_pro.append(summarization[i].replace('__label__1 ',''))\n",
        "  else:\n",
        "    sum_pro.append(summarization[i].replace('__label__2 ',''))"
      ]
    },
    {
      "attachments": {},
      "cell_type": "markdown",
      "metadata": {},
      "source": [
        "<h3>The below mentioned code block is attempt to derive the description only without having to parse through the whole Initial of the string since we know that the first 11 characters are \"_,_,l,a,b,e,l,n,_,_, \". Therefore, I can straight up jump these characters and save some execution time and storage as well<br><br> This idea came much later, once the whole code was already ran through 4 computers</h3>"
      ]
    },
    {
      "cell_type": "code",
      "execution_count": null,
      "metadata": {},
      "outputs": [],
      "source": [
        "summarization=[]\n",
        "for i in range(len(data1)):\n",
        "    str1=\"\"\n",
        "    for j in range(11,len(data1[i])):\n",
        "        if data[i][j]==':':\n",
        "            break\n",
        "        else:\n",
        "            str1+=data[i][j]\n",
        "    summarization.append(str1)"
      ]
    },
    {
      "attachments": {},
      "cell_type": "markdown",
      "metadata": {},
      "source": [
        "<h3>This code block will derive the data based on which we will perform our classification. <br> It parses till it encounters ':' and after that it will concatenate in a string and we append the whole string into a list</h3>"
      ]
    },
    {
      "cell_type": "code",
      "execution_count": null,
      "metadata": {},
      "outputs": [],
      "source": [
        "The_data=[]\n",
        "for i in range(len(data)):\n",
        "  m=0\n",
        "  j=len(data[i])\n",
        "  for k in range(j):\n",
        "    if data[i][k]!=':':\n",
        "      m+=1\n",
        "    else:\n",
        "      break\n",
        "  str1=''\n",
        "  for x in range(m+2,len(data[i])):\n",
        "    str1+=data[i][x]\n",
        "  The_data.append(str1)"
      ]
    },
    {
      "attachments": {},
      "cell_type": "markdown",
      "metadata": {},
      "source": [
        "<h3>The following code block derives the from the lists:</h3><h4>1. labels</h4><h4>2. sum_pro</h4><h4>3. The_data</h4><h3>and columns being</h3><h4>1. labels</h4><h4>2. Description</h4><h4>3. Text_data</h4><h3>Respecitvely</h3>"
      ]
    },
    {
      "cell_type": "code",
      "execution_count": null,
      "metadata": {
        "colab": {
          "base_uri": "https://localhost:8080/",
          "height": 581
        },
        "id": "bAZa3kwSQ0aN",
        "outputId": "def8bfe5-9271-4f6a-a643-b9268523e187"
      },
      "outputs": [],
      "source": [
        "df = pd.DataFrame(list(zip(labels,sum_pro,The_data)),columns =['labels', 'Description','Text_data'])\n",
        "df.shape\n",
        "df.to_csv(\"train1.csv\",index=False)"
      ]
    }
  ],
  "metadata": {
    "colab": {
      "provenance": []
    },
    "kernelspec": {
      "display_name": "Python 3",
      "name": "python3"
    },
    "language_info": {
      "codemirror_mode": {
        "name": "ipython",
        "version": 3
      },
      "file_extension": ".py",
      "mimetype": "text/x-python",
      "name": "python",
      "nbconvert_exporter": "python",
      "pygments_lexer": "ipython3",
      "version": "3.11.4"
    }
  },
  "nbformat": 4,
  "nbformat_minor": 0
}
