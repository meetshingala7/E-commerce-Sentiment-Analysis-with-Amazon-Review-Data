{
  "cells": [
    {
      "cell_type": "code",
      "execution_count": 33,
      "metadata": {
        "id": "FWYMAaqc-nC1"
      },
      "outputs": [],
      "source": [
        "import pandas as pd"
      ]
    },
    {
      "cell_type": "code",
      "execution_count": 34,
      "metadata": {},
      "outputs": [
        {
          "data": {
            "text/html": [
              "<div>\n",
              "<style scoped>\n",
              "    .dataframe tbody tr th:only-of-type {\n",
              "        vertical-align: middle;\n",
              "    }\n",
              "\n",
              "    .dataframe tbody tr th {\n",
              "        vertical-align: top;\n",
              "    }\n",
              "\n",
              "    .dataframe thead th {\n",
              "        text-align: right;\n",
              "    }\n",
              "</style>\n",
              "<table border=\"1\" class=\"dataframe\">\n",
              "  <thead>\n",
              "    <tr style=\"text-align: right;\">\n",
              "      <th></th>\n",
              "      <th>labels</th>\n",
              "      <th>Description</th>\n",
              "      <th>Text_data</th>\n",
              "    </tr>\n",
              "  </thead>\n",
              "  <tbody>\n",
              "    <tr>\n",
              "      <th>0</th>\n",
              "      <td>__label__1</td>\n",
              "      <td>Buyer beware</td>\n",
              "      <td>This is a self-published book, and if you want...</td>\n",
              "    </tr>\n",
              "    <tr>\n",
              "      <th>1</th>\n",
              "      <td>__label__1</td>\n",
              "      <td>Don't try to fool us with fake reviews.</td>\n",
              "      <td>It's glaringly obvious that all of the glowing...</td>\n",
              "    </tr>\n",
              "    <tr>\n",
              "      <th>2</th>\n",
              "      <td>__label__2</td>\n",
              "      <td>i liked this album more then i thought i would</td>\n",
              "      <td>I heard a song or two and thought same o same ...</td>\n",
              "    </tr>\n",
              "    <tr>\n",
              "      <th>3</th>\n",
              "      <td>__label__2</td>\n",
              "      <td>Is this great TV??? You bet it is</td>\n",
              "      <td>Hotel Babylon is not just good TV...it's great...</td>\n",
              "    </tr>\n",
              "    <tr>\n",
              "      <th>4</th>\n",
              "      <td>__label__2</td>\n",
              "      <td>Alaska sourdough</td>\n",
              "      <td>REad most of the book while visiting my brothe...</td>\n",
              "    </tr>\n",
              "  </tbody>\n",
              "</table>\n",
              "</div>"
            ],
            "text/plain": [
              "       labels                                     Description  \\\n",
              "0  __label__1                                    Buyer beware   \n",
              "1  __label__1         Don't try to fool us with fake reviews.   \n",
              "2  __label__2  i liked this album more then i thought i would   \n",
              "3  __label__2               Is this great TV??? You bet it is   \n",
              "4  __label__2                                Alaska sourdough   \n",
              "\n",
              "                                           Text_data  \n",
              "0  This is a self-published book, and if you want...  \n",
              "1  It's glaringly obvious that all of the glowing...  \n",
              "2  I heard a song or two and thought same o same ...  \n",
              "3  Hotel Babylon is not just good TV...it's great...  \n",
              "4  REad most of the book while visiting my brothe...  "
            ]
          },
          "execution_count": 34,
          "metadata": {},
          "output_type": "execute_result"
        }
      ],
      "source": [
        "df=pd.read_csv(\"train7.csv\")\n",
        "df.head()"
      ]
    },
    {
      "attachments": {},
      "cell_type": "markdown",
      "metadata": {},
      "source": [
        "<h3>The below code labels the 1st label as Negative (1 and 2 stars) and 2nd as Positive (4 and 5 stars)<br>3 starts are ignored in the data from the source</h3>"
      ]
    },
    {
      "cell_type": "code",
      "execution_count": 35,
      "metadata": {
        "id": "KWHf6QsZRqvN"
      },
      "outputs": [],
      "source": [
        "for i in range(len(df)):\n",
        "  if df['labels'][i]=='__label__1':\n",
        "    df['labels'][i]='Negative'\n",
        "  else:\n",
        "    df['labels'][i]='Positive'"
      ]
    },
    {
      "cell_type": "code",
      "execution_count": 36,
      "metadata": {
        "colab": {
          "base_uri": "https://localhost:8080/",
          "height": 35
        },
        "id": "xkCkXsgwR7cR",
        "outputId": "9f983c8c-f474-475c-be1a-a946c5b95d5a"
      },
      "outputs": [
        {
          "data": {
            "text/plain": [
              "0         Negative\n",
              "1         Negative\n",
              "2         Positive\n",
              "3         Positive\n",
              "4         Positive\n",
              "            ...   \n",
              "399995    Negative\n",
              "399996    Negative\n",
              "399997    Positive\n",
              "399998    Positive\n",
              "399999    Negative\n",
              "Name: labels, Length: 400000, dtype: object"
            ]
          },
          "execution_count": 36,
          "metadata": {},
          "output_type": "execute_result"
        }
      ],
      "source": [
        "df['labels']"
      ]
    },
    {
      "attachments": {},
      "cell_type": "markdown",
      "metadata": {
        "id": "CFa1iNb2XuJH"
      },
      "source": [
        "<h3>The focus is on Tokenizing all the strings in the dataset</h3>"
      ]
    },
    {
      "cell_type": "code",
      "execution_count": 37,
      "metadata": {
        "colab": {
          "base_uri": "https://localhost:8080/"
        },
        "id": "UY-fgPH4SPgP",
        "outputId": "cc0ed464-e771-44e3-85ed-085152f859cb"
      },
      "outputs": [
        {
          "name": "stderr",
          "output_type": "stream",
          "text": [
            "[nltk_data] Downloading package punkt to\n",
            "[nltk_data]     C:\\Users\\Lenovo\\AppData\\Roaming\\nltk_data...\n",
            "[nltk_data]   Package punkt is already up-to-date!\n"
          ]
        },
        {
          "data": {
            "text/plain": [
              "True"
            ]
          },
          "execution_count": 37,
          "metadata": {},
          "output_type": "execute_result"
        }
      ],
      "source": [
        "import nltk\n",
        "nltk.download('punkt')"
      ]
    },
    {
      "cell_type": "code",
      "execution_count": 38,
      "metadata": {
        "colab": {
          "base_uri": "https://localhost:8080/",
          "height": 337
        },
        "id": "6ksj2pA_QXi3",
        "outputId": "dc02229d-03a4-40d5-e28a-b705fff3a0b3"
      },
      "outputs": [
        {
          "data": {
            "text/html": [
              "<div>\n",
              "<style scoped>\n",
              "    .dataframe tbody tr th:only-of-type {\n",
              "        vertical-align: middle;\n",
              "    }\n",
              "\n",
              "    .dataframe tbody tr th {\n",
              "        vertical-align: top;\n",
              "    }\n",
              "\n",
              "    .dataframe thead th {\n",
              "        text-align: right;\n",
              "    }\n",
              "</style>\n",
              "<table border=\"1\" class=\"dataframe\">\n",
              "  <thead>\n",
              "    <tr style=\"text-align: right;\">\n",
              "      <th></th>\n",
              "      <th>labels</th>\n",
              "      <th>Description</th>\n",
              "      <th>Text_data</th>\n",
              "    </tr>\n",
              "  </thead>\n",
              "  <tbody>\n",
              "    <tr>\n",
              "      <th>0</th>\n",
              "      <td>Negative</td>\n",
              "      <td>Buyer beware</td>\n",
              "      <td>[This, is, a, self-published, book, ,, and, if...</td>\n",
              "    </tr>\n",
              "    <tr>\n",
              "      <th>1</th>\n",
              "      <td>Negative</td>\n",
              "      <td>Don't try to fool us with fake reviews.</td>\n",
              "      <td>[It, 's, glaringly, obvious, that, all, of, th...</td>\n",
              "    </tr>\n",
              "    <tr>\n",
              "      <th>2</th>\n",
              "      <td>Positive</td>\n",
              "      <td>i liked this album more then i thought i would</td>\n",
              "      <td>[I, heard, a, song, or, two, and, thought, sam...</td>\n",
              "    </tr>\n",
              "    <tr>\n",
              "      <th>3</th>\n",
              "      <td>Positive</td>\n",
              "      <td>Is this great TV??? You bet it is</td>\n",
              "      <td>[Hotel, Babylon, is, not, just, good, TV, ...,...</td>\n",
              "    </tr>\n",
              "    <tr>\n",
              "      <th>4</th>\n",
              "      <td>Positive</td>\n",
              "      <td>Alaska sourdough</td>\n",
              "      <td>[REad, most, of, the, book, while, visiting, m...</td>\n",
              "    </tr>\n",
              "  </tbody>\n",
              "</table>\n",
              "</div>"
            ],
            "text/plain": [
              "     labels                                     Description  \\\n",
              "0  Negative                                    Buyer beware   \n",
              "1  Negative         Don't try to fool us with fake reviews.   \n",
              "2  Positive  i liked this album more then i thought i would   \n",
              "3  Positive               Is this great TV??? You bet it is   \n",
              "4  Positive                                Alaska sourdough   \n",
              "\n",
              "                                           Text_data  \n",
              "0  [This, is, a, self-published, book, ,, and, if...  \n",
              "1  [It, 's, glaringly, obvious, that, all, of, th...  \n",
              "2  [I, heard, a, song, or, two, and, thought, sam...  \n",
              "3  [Hotel, Babylon, is, not, just, good, TV, ...,...  \n",
              "4  [REad, most, of, the, book, while, visiting, m...  "
            ]
          },
          "execution_count": 38,
          "metadata": {},
          "output_type": "execute_result"
        }
      ],
      "source": [
        "df['Text_data'] = df['Text_data'].apply(nltk.word_tokenize)\n",
        "df.head()"
      ]
    },
    {
      "cell_type": "code",
      "execution_count": 39,
      "metadata": {
        "colab": {
          "base_uri": "https://localhost:8080/",
          "height": 396
        },
        "id": "_JR8wLgP7M7T",
        "outputId": "fbff421f-d80a-4b82-f262-afa79b231791"
      },
      "outputs": [],
      "source": [
        "# new_words=[]\n",
        "# for i in range(len(df)):\n",
        "#   for j in range(len(df['Text_data'][i])):\n",
        "#     if df['Text_data'][i][j] not in new_words:\n",
        "#       new_words.append(df['Text_data'][i][j])\n",
        "# print(len(new_words))"
      ]
    },
    {
      "attachments": {},
      "cell_type": "markdown",
      "metadata": {
        "id": "tT8zpOWz7RZv"
      },
      "source": [
        "<h3>Count all the words in the dataset</h3>"
      ]
    },
    {
      "cell_type": "code",
      "execution_count": 40,
      "metadata": {
        "colab": {
          "base_uri": "https://localhost:8080/"
        },
        "id": "PZupk9VO7Uau",
        "outputId": "888a36f6-9d6f-497b-ff0c-63f584ceafcb"
      },
      "outputs": [
        {
          "name": "stdout",
          "output_type": "stream",
          "text": [
            "34078439\n"
          ]
        }
      ],
      "source": [
        "sum=0\n",
        "for i in range(len(df)):\n",
        "  sum+=len(df['Text_data'][i])\n",
        "print(sum) "
      ]
    },
    {
      "attachments": {},
      "cell_type": "markdown",
      "metadata": {
        "id": "iqmiBiYCX5xK"
      },
      "source": [
        "<h3>The focus is on removing all the punctuation marks and instead replace them with empty strings</h3>"
      ]
    },
    {
      "cell_type": "code",
      "execution_count": 41,
      "metadata": {
        "colab": {
          "base_uri": "https://localhost:8080/"
        },
        "id": "QF1ifhFENhLo",
        "outputId": "f3936df5-2845-4f9c-f446-a62b2702c831"
      },
      "outputs": [
        {
          "name": "stdout",
          "output_type": "stream",
          "text": [
            "!\"#$%&'()*+,-./:;<=>?@[\\]^_`{|}~\n"
          ]
        }
      ],
      "source": [
        "import string\n",
        "print(string.punctuation)"
      ]
    },
    {
      "cell_type": "code",
      "execution_count": 42,
      "metadata": {
        "colab": {
          "base_uri": "https://localhost:8080/"
        },
        "id": "QqbJsrzUPp0G",
        "outputId": "33d06271-821c-4677-ee5f-28cb04699f01"
      },
      "outputs": [
        {
          "name": "stdout",
          "output_type": "stream",
          "text": [
            "['!', '\"', '#', '$', '%', '&', \"'\", '(', ')', '*', '+', ',', '-', '.', '/', ':', ';', '<', '=', '>', '?', '@', '[', '\\\\', ']', '^', '_', '`', '{', '|', '}', '~']\n",
            "\n"
          ]
        }
      ],
      "source": [
        "puntc_list=list(string.punctuation)\n",
        "print(puntc_list)\n",
        "print()"
      ]
    },
    {
      "cell_type": "code",
      "execution_count": 43,
      "metadata": {
        "id": "XBOiyFchPrrw"
      },
      "outputs": [],
      "source": [
        "import string\n",
        "def punct_marks(s):\n",
        "  f=filter(str.isalpha,s)\n",
        "  s1=\"\".join(f)\n",
        "  return s1"
      ]
    },
    {
      "cell_type": "code",
      "execution_count": 44,
      "metadata": {
        "colab": {
          "base_uri": "https://localhost:8080/",
          "height": 337
        },
        "id": "AAICcZbIPzgD",
        "outputId": "16d63af2-9513-4e05-8aa5-a7fb4c7b487f"
      },
      "outputs": [
        {
          "data": {
            "text/html": [
              "<div>\n",
              "<style scoped>\n",
              "    .dataframe tbody tr th:only-of-type {\n",
              "        vertical-align: middle;\n",
              "    }\n",
              "\n",
              "    .dataframe tbody tr th {\n",
              "        vertical-align: top;\n",
              "    }\n",
              "\n",
              "    .dataframe thead th {\n",
              "        text-align: right;\n",
              "    }\n",
              "</style>\n",
              "<table border=\"1\" class=\"dataframe\">\n",
              "  <thead>\n",
              "    <tr style=\"text-align: right;\">\n",
              "      <th></th>\n",
              "      <th>labels</th>\n",
              "      <th>Description</th>\n",
              "      <th>Text_data</th>\n",
              "    </tr>\n",
              "  </thead>\n",
              "  <tbody>\n",
              "    <tr>\n",
              "      <th>0</th>\n",
              "      <td>Negative</td>\n",
              "      <td>Buyer beware</td>\n",
              "      <td>[This, is, a, selfpublished, book, , and, if, ...</td>\n",
              "    </tr>\n",
              "    <tr>\n",
              "      <th>1</th>\n",
              "      <td>Negative</td>\n",
              "      <td>Don't try to fool us with fake reviews.</td>\n",
              "      <td>[It, s, glaringly, obvious, that, all, of, the...</td>\n",
              "    </tr>\n",
              "    <tr>\n",
              "      <th>2</th>\n",
              "      <td>Positive</td>\n",
              "      <td>i liked this album more then i thought i would</td>\n",
              "      <td>[I, heard, a, song, or, two, and, thought, sam...</td>\n",
              "    </tr>\n",
              "    <tr>\n",
              "      <th>3</th>\n",
              "      <td>Positive</td>\n",
              "      <td>Is this great TV??? You bet it is</td>\n",
              "      <td>[Hotel, Babylon, is, not, just, good, TV, , it...</td>\n",
              "    </tr>\n",
              "    <tr>\n",
              "      <th>4</th>\n",
              "      <td>Positive</td>\n",
              "      <td>Alaska sourdough</td>\n",
              "      <td>[REad, most, of, the, book, while, visiting, m...</td>\n",
              "    </tr>\n",
              "  </tbody>\n",
              "</table>\n",
              "</div>"
            ],
            "text/plain": [
              "     labels                                     Description  \\\n",
              "0  Negative                                    Buyer beware   \n",
              "1  Negative         Don't try to fool us with fake reviews.   \n",
              "2  Positive  i liked this album more then i thought i would   \n",
              "3  Positive               Is this great TV??? You bet it is   \n",
              "4  Positive                                Alaska sourdough   \n",
              "\n",
              "                                           Text_data  \n",
              "0  [This, is, a, selfpublished, book, , and, if, ...  \n",
              "1  [It, s, glaringly, obvious, that, all, of, the...  \n",
              "2  [I, heard, a, song, or, two, and, thought, sam...  \n",
              "3  [Hotel, Babylon, is, not, just, good, TV, , it...  \n",
              "4  [REad, most, of, the, book, while, visiting, m...  "
            ]
          },
          "execution_count": 44,
          "metadata": {},
          "output_type": "execute_result"
        }
      ],
      "source": [
        "for i in range(len(df)):\n",
        "  for j in range(len(df['Text_data'][i])):\n",
        "    df['Text_data'][i][j]=punct_marks(df['Text_data'][i][j])\n",
        "df.head()"
      ]
    },
    {
      "attachments": {},
      "cell_type": "markdown",
      "metadata": {
        "id": "Q39huoIjYEY-"
      },
      "source": [
        "<h3>Count of all the empty Strings in the dataset</h3>"
      ]
    },
    {
      "cell_type": "code",
      "execution_count": 45,
      "metadata": {
        "colab": {
          "base_uri": "https://localhost:8080/"
        },
        "id": "26Wsz0jvQClr",
        "outputId": "3e7c6bca-2be6-4140-fa44-ed19928a6bf2"
      },
      "outputs": [
        {
          "data": {
            "text/plain": [
              "4030009"
            ]
          },
          "execution_count": 45,
          "metadata": {},
          "output_type": "execute_result"
        }
      ],
      "source": [
        "count=0\n",
        "for i in range(len(df)):\n",
        "  for j in range(len(df['Text_data'][i])):\n",
        "    if len(df['Text_data'][i][j])==0:\n",
        "      count+=1\n",
        "count"
      ]
    },
    {
      "attachments": {},
      "cell_type": "markdown",
      "metadata": {
        "id": "h3XXCFhHYJ3J"
      },
      "source": [
        "<h3>Function to remove the empty strings after removing punctuation marks</h3>"
      ]
    },
    {
      "cell_type": "code",
      "execution_count": 46,
      "metadata": {
        "id": "xBYnyO2aQQuh"
      },
      "outputs": [],
      "source": [
        "def remove_items(test_list, item):\n",
        " \n",
        "    # using list comprehension to perform the task\n",
        "    res = [i for i in test_list if i != item]\n",
        " \n",
        "    return res"
      ]
    },
    {
      "cell_type": "code",
      "execution_count": 47,
      "metadata": {
        "id": "tHJn4W3QXTZ9"
      },
      "outputs": [],
      "source": [
        "for i in range(len(df)):\n",
        "  df['Text_data'][i]=remove_items(df['Text_data'][i],'')"
      ]
    },
    {
      "cell_type": "code",
      "execution_count": 48,
      "metadata": {
        "colab": {
          "base_uri": "https://localhost:8080/",
          "height": 206
        },
        "id": "fUmc3UL6Xnxr",
        "outputId": "54b35136-848c-4ba2-a8c9-67b14244b2ab"
      },
      "outputs": [
        {
          "data": {
            "text/html": [
              "<div>\n",
              "<style scoped>\n",
              "    .dataframe tbody tr th:only-of-type {\n",
              "        vertical-align: middle;\n",
              "    }\n",
              "\n",
              "    .dataframe tbody tr th {\n",
              "        vertical-align: top;\n",
              "    }\n",
              "\n",
              "    .dataframe thead th {\n",
              "        text-align: right;\n",
              "    }\n",
              "</style>\n",
              "<table border=\"1\" class=\"dataframe\">\n",
              "  <thead>\n",
              "    <tr style=\"text-align: right;\">\n",
              "      <th></th>\n",
              "      <th>labels</th>\n",
              "      <th>Description</th>\n",
              "      <th>Text_data</th>\n",
              "    </tr>\n",
              "  </thead>\n",
              "  <tbody>\n",
              "    <tr>\n",
              "      <th>0</th>\n",
              "      <td>Negative</td>\n",
              "      <td>Buyer beware</td>\n",
              "      <td>[This, is, a, selfpublished, book, and, if, yo...</td>\n",
              "    </tr>\n",
              "    <tr>\n",
              "      <th>1</th>\n",
              "      <td>Negative</td>\n",
              "      <td>Don't try to fool us with fake reviews.</td>\n",
              "      <td>[It, s, glaringly, obvious, that, all, of, the...</td>\n",
              "    </tr>\n",
              "    <tr>\n",
              "      <th>2</th>\n",
              "      <td>Positive</td>\n",
              "      <td>i liked this album more then i thought i would</td>\n",
              "      <td>[I, heard, a, song, or, two, and, thought, sam...</td>\n",
              "    </tr>\n",
              "    <tr>\n",
              "      <th>3</th>\n",
              "      <td>Positive</td>\n",
              "      <td>Is this great TV??? You bet it is</td>\n",
              "      <td>[Hotel, Babylon, is, not, just, good, TV, it, ...</td>\n",
              "    </tr>\n",
              "    <tr>\n",
              "      <th>4</th>\n",
              "      <td>Positive</td>\n",
              "      <td>Alaska sourdough</td>\n",
              "      <td>[REad, most, of, the, book, while, visiting, m...</td>\n",
              "    </tr>\n",
              "  </tbody>\n",
              "</table>\n",
              "</div>"
            ],
            "text/plain": [
              "     labels                                     Description  \\\n",
              "0  Negative                                    Buyer beware   \n",
              "1  Negative         Don't try to fool us with fake reviews.   \n",
              "2  Positive  i liked this album more then i thought i would   \n",
              "3  Positive               Is this great TV??? You bet it is   \n",
              "4  Positive                                Alaska sourdough   \n",
              "\n",
              "                                           Text_data  \n",
              "0  [This, is, a, selfpublished, book, and, if, yo...  \n",
              "1  [It, s, glaringly, obvious, that, all, of, the...  \n",
              "2  [I, heard, a, song, or, two, and, thought, sam...  \n",
              "3  [Hotel, Babylon, is, not, just, good, TV, it, ...  \n",
              "4  [REad, most, of, the, book, while, visiting, m...  "
            ]
          },
          "execution_count": 48,
          "metadata": {},
          "output_type": "execute_result"
        }
      ],
      "source": [
        "df.head()"
      ]
    },
    {
      "cell_type": "code",
      "execution_count": 49,
      "metadata": {
        "colab": {
          "base_uri": "https://localhost:8080/",
          "height": 466
        },
        "id": "jjxg0hmochDf",
        "outputId": "ca945c6d-bb1d-4190-f661-888291e76cb0"
      },
      "outputs": [
        {
          "data": {
            "text/plain": [
              "<Axes: xlabel='count', ylabel='labels'>"
            ]
          },
          "execution_count": 49,
          "metadata": {},
          "output_type": "execute_result"
        },
        {
          "data": {
            "image/png": "[encoded data removed]",
            "text/plain": [
              "<Figure size 640x480 with 1 Axes>"
            ]
          },
          "metadata": {},
          "output_type": "display_data"
        }
      ],
      "source": [
        "import seaborn as sb\n",
        "sb.countplot(y=df.labels)"
      ]
    },
    {
      "attachments": {},
      "cell_type": "markdown",
      "metadata": {
        "id": "jjiTycQiyxU-"
      },
      "source": [
        "<h3>Remove all the Non-Ascii Characters</h3>"
      ]
    },
    {
      "cell_type": "code",
      "execution_count": 50,
      "metadata": {
        "id": "KEWtlIUFynXH"
      },
      "outputs": [],
      "source": [
        "import string\n",
        "def remove_non_ascii(a_str):\n",
        "    ascii_chars = set(string.printable)\n",
        "    return ''.join(filter(lambda x: x in ascii_chars, a_str))"
      ]
    },
    {
      "cell_type": "code",
      "execution_count": 51,
      "metadata": {
        "colab": {
          "base_uri": "https://localhost:8080/",
          "height": 337
        },
        "id": "H9hwSpPIy2jk",
        "outputId": "7da8aa61-200e-4b8c-f107-536be67393c1"
      },
      "outputs": [
        {
          "data": {
            "text/html": [
              "<div>\n",
              "<style scoped>\n",
              "    .dataframe tbody tr th:only-of-type {\n",
              "        vertical-align: middle;\n",
              "    }\n",
              "\n",
              "    .dataframe tbody tr th {\n",
              "        vertical-align: top;\n",
              "    }\n",
              "\n",
              "    .dataframe thead th {\n",
              "        text-align: right;\n",
              "    }\n",
              "</style>\n",
              "<table border=\"1\" class=\"dataframe\">\n",
              "  <thead>\n",
              "    <tr style=\"text-align: right;\">\n",
              "      <th></th>\n",
              "      <th>labels</th>\n",
              "      <th>Description</th>\n",
              "      <th>Text_data</th>\n",
              "    </tr>\n",
              "  </thead>\n",
              "  <tbody>\n",
              "    <tr>\n",
              "      <th>0</th>\n",
              "      <td>Negative</td>\n",
              "      <td>Buyer beware</td>\n",
              "      <td>[This, is, a, selfpublished, book, and, if, yo...</td>\n",
              "    </tr>\n",
              "    <tr>\n",
              "      <th>1</th>\n",
              "      <td>Negative</td>\n",
              "      <td>Don't try to fool us with fake reviews.</td>\n",
              "      <td>[It, s, glaringly, obvious, that, all, of, the...</td>\n",
              "    </tr>\n",
              "    <tr>\n",
              "      <th>2</th>\n",
              "      <td>Positive</td>\n",
              "      <td>i liked this album more then i thought i would</td>\n",
              "      <td>[I, heard, a, song, or, two, and, thought, sam...</td>\n",
              "    </tr>\n",
              "    <tr>\n",
              "      <th>3</th>\n",
              "      <td>Positive</td>\n",
              "      <td>Is this great TV??? You bet it is</td>\n",
              "      <td>[Hotel, Babylon, is, not, just, good, TV, it, ...</td>\n",
              "    </tr>\n",
              "    <tr>\n",
              "      <th>4</th>\n",
              "      <td>Positive</td>\n",
              "      <td>Alaska sourdough</td>\n",
              "      <td>[REad, most, of, the, book, while, visiting, m...</td>\n",
              "    </tr>\n",
              "  </tbody>\n",
              "</table>\n",
              "</div>"
            ],
            "text/plain": [
              "     labels                                     Description  \\\n",
              "0  Negative                                    Buyer beware   \n",
              "1  Negative         Don't try to fool us with fake reviews.   \n",
              "2  Positive  i liked this album more then i thought i would   \n",
              "3  Positive               Is this great TV??? You bet it is   \n",
              "4  Positive                                Alaska sourdough   \n",
              "\n",
              "                                           Text_data  \n",
              "0  [This, is, a, selfpublished, book, and, if, yo...  \n",
              "1  [It, s, glaringly, obvious, that, all, of, the...  \n",
              "2  [I, heard, a, song, or, two, and, thought, sam...  \n",
              "3  [Hotel, Babylon, is, not, just, good, TV, it, ...  \n",
              "4  [REad, most, of, the, book, while, visiting, m...  "
            ]
          },
          "execution_count": 51,
          "metadata": {},
          "output_type": "execute_result"
        }
      ],
      "source": [
        "for i in range(len(df)):\n",
        "  for j in range(len(df['Text_data'][i])):\n",
        "    df['Text_data'][i][j].replace(df['Text_data'][i][j],remove_non_ascii(df['Text_data'][i][j]),1)\n",
        "df.head()"
      ]
    },
    {
      "attachments": {},
      "cell_type": "markdown",
      "metadata": {
        "id": "siQ9guigzFgI"
      },
      "source": [
        "### Convert all the characters to lowercase"
      ]
    },
    {
      "cell_type": "code",
      "execution_count": 52,
      "metadata": {
        "id": "IPymMT_Fy-t3"
      },
      "outputs": [],
      "source": [
        "def low_case(string1):\n",
        "  if string1==True or string1==False or string1=='True' or string1=='False':\n",
        "    return ''\n",
        "  return string1.lower()"
      ]
    },
    {
      "cell_type": "code",
      "execution_count": 53,
      "metadata": {
        "colab": {
          "base_uri": "https://localhost:8080/",
          "height": 206
        },
        "id": "rHeLdKeyzL1O",
        "outputId": "191e6bd0-333b-4cf8-e381-edacacc18f0e"
      },
      "outputs": [
        {
          "data": {
            "text/html": [
              "<div>\n",
              "<style scoped>\n",
              "    .dataframe tbody tr th:only-of-type {\n",
              "        vertical-align: middle;\n",
              "    }\n",
              "\n",
              "    .dataframe tbody tr th {\n",
              "        vertical-align: top;\n",
              "    }\n",
              "\n",
              "    .dataframe thead th {\n",
              "        text-align: right;\n",
              "    }\n",
              "</style>\n",
              "<table border=\"1\" class=\"dataframe\">\n",
              "  <thead>\n",
              "    <tr style=\"text-align: right;\">\n",
              "      <th></th>\n",
              "      <th>labels</th>\n",
              "      <th>Description</th>\n",
              "      <th>Text_data</th>\n",
              "    </tr>\n",
              "  </thead>\n",
              "  <tbody>\n",
              "    <tr>\n",
              "      <th>0</th>\n",
              "      <td>Negative</td>\n",
              "      <td>Buyer beware</td>\n",
              "      <td>[this, is, a, selfpublished, book, and, if, yo...</td>\n",
              "    </tr>\n",
              "    <tr>\n",
              "      <th>1</th>\n",
              "      <td>Negative</td>\n",
              "      <td>Don't try to fool us with fake reviews.</td>\n",
              "      <td>[it, s, glaringly, obvious, that, all, of, the...</td>\n",
              "    </tr>\n",
              "    <tr>\n",
              "      <th>2</th>\n",
              "      <td>Positive</td>\n",
              "      <td>i liked this album more then i thought i would</td>\n",
              "      <td>[i, heard, a, song, or, two, and, thought, sam...</td>\n",
              "    </tr>\n",
              "    <tr>\n",
              "      <th>3</th>\n",
              "      <td>Positive</td>\n",
              "      <td>Is this great TV??? You bet it is</td>\n",
              "      <td>[hotel, babylon, is, not, just, good, tv, it, ...</td>\n",
              "    </tr>\n",
              "    <tr>\n",
              "      <th>4</th>\n",
              "      <td>Positive</td>\n",
              "      <td>Alaska sourdough</td>\n",
              "      <td>[read, most, of, the, book, while, visiting, m...</td>\n",
              "    </tr>\n",
              "  </tbody>\n",
              "</table>\n",
              "</div>"
            ],
            "text/plain": [
              "     labels                                     Description  \\\n",
              "0  Negative                                    Buyer beware   \n",
              "1  Negative         Don't try to fool us with fake reviews.   \n",
              "2  Positive  i liked this album more then i thought i would   \n",
              "3  Positive               Is this great TV??? You bet it is   \n",
              "4  Positive                                Alaska sourdough   \n",
              "\n",
              "                                           Text_data  \n",
              "0  [this, is, a, selfpublished, book, and, if, yo...  \n",
              "1  [it, s, glaringly, obvious, that, all, of, the...  \n",
              "2  [i, heard, a, song, or, two, and, thought, sam...  \n",
              "3  [hotel, babylon, is, not, just, good, tv, it, ...  \n",
              "4  [read, most, of, the, book, while, visiting, m...  "
            ]
          },
          "execution_count": 53,
          "metadata": {},
          "output_type": "execute_result"
        }
      ],
      "source": [
        "for i in range(len(df)):\n",
        "  for j in range(len(df['Text_data'][i])):\n",
        "    df['Text_data'][i][j]=low_case(df['Text_data'][i][j])\n",
        "df.head()"
      ]
    },
    {
      "attachments": {},
      "cell_type": "markdown",
      "metadata": {
        "id": "NyznQ0Pc2OTh"
      },
      "source": [
        "<h3>Removing of all stopwords</h3>"
      ]
    },
    {
      "cell_type": "code",
      "execution_count": 54,
      "metadata": {},
      "outputs": [],
      "source": [
        "count=0\n",
        "for i in range(len(df)):\n",
        "    k=len(df['Text_data'][i])\n",
        "    for j in range(k):\n",
        "        if j<len(df['Text_data'][i]):\n",
        "            if len(df['Text_data'][i][j])==1:\n",
        "                count+=1\n",
        "                df['Text_data'][i].remove(df['Text_data'][i][j])"
      ]
    },
    {
      "cell_type": "code",
      "execution_count": 55,
      "metadata": {
        "colab": {
          "base_uri": "https://localhost:8080/"
        },
        "id": "ExtAn-G52dJu",
        "outputId": "d9635aca-a5c1-4628-ccd7-0c1605841231"
      },
      "outputs": [
        {
          "name": "stderr",
          "output_type": "stream",
          "text": [
            "[nltk_data] Downloading package stopwords to\n",
            "[nltk_data]     C:\\Users\\Lenovo\\AppData\\Roaming\\nltk_data...\n",
            "[nltk_data]   Package stopwords is already up-to-date!\n"
          ]
        },
        {
          "data": {
            "text/plain": [
              "True"
            ]
          },
          "execution_count": 55,
          "metadata": {},
          "output_type": "execute_result"
        }
      ],
      "source": [
        "# Download the stopwords from NLTK \n",
        "nltk.download('stopwords')"
      ]
    },
    {
      "cell_type": "code",
      "execution_count": 56,
      "metadata": {
        "colab": {
          "base_uri": "https://localhost:8080/",
          "height": 337
        },
        "id": "h6Tm7m3N0roV",
        "outputId": "9e1b6de4-ba53-4724-b674-9c86b5392ff8"
      },
      "outputs": [
        {
          "data": {
            "text/html": [
              "<div>\n",
              "<style scoped>\n",
              "    .dataframe tbody tr th:only-of-type {\n",
              "        vertical-align: middle;\n",
              "    }\n",
              "\n",
              "    .dataframe tbody tr th {\n",
              "        vertical-align: top;\n",
              "    }\n",
              "\n",
              "    .dataframe thead th {\n",
              "        text-align: right;\n",
              "    }\n",
              "</style>\n",
              "<table border=\"1\" class=\"dataframe\">\n",
              "  <thead>\n",
              "    <tr style=\"text-align: right;\">\n",
              "      <th></th>\n",
              "      <th>labels</th>\n",
              "      <th>Description</th>\n",
              "      <th>Text_data</th>\n",
              "    </tr>\n",
              "  </thead>\n",
              "  <tbody>\n",
              "    <tr>\n",
              "      <th>0</th>\n",
              "      <td>Negative</td>\n",
              "      <td>Buyer beware</td>\n",
              "      <td>[is, selfpublished, book, if, want, know, read...</td>\n",
              "    </tr>\n",
              "    <tr>\n",
              "      <th>1</th>\n",
              "      <td>Negative</td>\n",
              "      <td>Don't try to fool us with fake reviews.</td>\n",
              "      <td>[glaringly, obvious, glowing, reviews, been, w...</td>\n",
              "    </tr>\n",
              "    <tr>\n",
              "      <th>2</th>\n",
              "      <td>Positive</td>\n",
              "      <td>i liked this album more then i thought i would</td>\n",
              "      <td>[heard, song, two, thought, same, when, listen...</td>\n",
              "    </tr>\n",
              "    <tr>\n",
              "      <th>3</th>\n",
              "      <td>Positive</td>\n",
              "      <td>Is this great TV??? You bet it is</td>\n",
              "      <td>[hotel, babylon, not, good, tv, great, tv, sho...</td>\n",
              "    </tr>\n",
              "    <tr>\n",
              "      <th>4</th>\n",
              "      <td>Positive</td>\n",
              "      <td>Alaska sourdough</td>\n",
              "      <td>[read, book, visiting, brother, alaska, loved,...</td>\n",
              "    </tr>\n",
              "  </tbody>\n",
              "</table>\n",
              "</div>"
            ],
            "text/plain": [
              "     labels                                     Description  \\\n",
              "0  Negative                                    Buyer beware   \n",
              "1  Negative         Don't try to fool us with fake reviews.   \n",
              "2  Positive  i liked this album more then i thought i would   \n",
              "3  Positive               Is this great TV??? You bet it is   \n",
              "4  Positive                                Alaska sourdough   \n",
              "\n",
              "                                           Text_data  \n",
              "0  [is, selfpublished, book, if, want, know, read...  \n",
              "1  [glaringly, obvious, glowing, reviews, been, w...  \n",
              "2  [heard, song, two, thought, same, when, listen...  \n",
              "3  [hotel, babylon, not, good, tv, great, tv, sho...  \n",
              "4  [read, book, visiting, brother, alaska, loved,...  "
            ]
          },
          "execution_count": 56,
          "metadata": {},
          "output_type": "execute_result"
        }
      ],
      "source": [
        "from nltk.corpus import stopwords\n",
        "stop_words = set(stopwords.words('english'))\n",
        "for i in range(len(df)):\n",
        "  k=len(df['Text_data'][i])\n",
        "  for j in range(k):\n",
        "    if j<len(df['Text_data'][i]):\n",
        "      if df['Text_data'][i][j] in stop_words:\n",
        "        df['Text_data'][i].remove(df['Text_data'][i][j])\n",
        "df.head()"
      ]
    },
    {
      "attachments": {},
      "cell_type": "markdown",
      "metadata": {
        "id": "nxAi4Pet2ozn"
      },
      "source": [
        "<h3>Removing all the digits from the Text_data</h3>"
      ]
    },
    {
      "cell_type": "code",
      "execution_count": 57,
      "metadata": {
        "colab": {
          "base_uri": "https://localhost:8080/",
          "height": 337
        },
        "id": "G2uKmEbL2YoO",
        "outputId": "950e617c-916c-424a-e14e-8967fd1301b5"
      },
      "outputs": [
        {
          "data": {
            "text/html": [
              "<div>\n",
              "<style scoped>\n",
              "    .dataframe tbody tr th:only-of-type {\n",
              "        vertical-align: middle;\n",
              "    }\n",
              "\n",
              "    .dataframe tbody tr th {\n",
              "        vertical-align: top;\n",
              "    }\n",
              "\n",
              "    .dataframe thead th {\n",
              "        text-align: right;\n",
              "    }\n",
              "</style>\n",
              "<table border=\"1\" class=\"dataframe\">\n",
              "  <thead>\n",
              "    <tr style=\"text-align: right;\">\n",
              "      <th></th>\n",
              "      <th>labels</th>\n",
              "      <th>Description</th>\n",
              "      <th>Text_data</th>\n",
              "    </tr>\n",
              "  </thead>\n",
              "  <tbody>\n",
              "    <tr>\n",
              "      <th>0</th>\n",
              "      <td>Negative</td>\n",
              "      <td>Buyer beware</td>\n",
              "      <td>[is, selfpublished, book, if, want, know, read...</td>\n",
              "    </tr>\n",
              "    <tr>\n",
              "      <th>1</th>\n",
              "      <td>Negative</td>\n",
              "      <td>Don't try to fool us with fake reviews.</td>\n",
              "      <td>[glaringly, obvious, glowing, reviews, been, w...</td>\n",
              "    </tr>\n",
              "    <tr>\n",
              "      <th>2</th>\n",
              "      <td>Positive</td>\n",
              "      <td>i liked this album more then i thought i would</td>\n",
              "      <td>[heard, song, two, thought, same, when, listen...</td>\n",
              "    </tr>\n",
              "    <tr>\n",
              "      <th>3</th>\n",
              "      <td>Positive</td>\n",
              "      <td>Is this great TV??? You bet it is</td>\n",
              "      <td>[hotel, babylon, not, good, tv, great, tv, sho...</td>\n",
              "    </tr>\n",
              "    <tr>\n",
              "      <th>4</th>\n",
              "      <td>Positive</td>\n",
              "      <td>Alaska sourdough</td>\n",
              "      <td>[read, book, visiting, brother, alaska, loved,...</td>\n",
              "    </tr>\n",
              "  </tbody>\n",
              "</table>\n",
              "</div>"
            ],
            "text/plain": [
              "     labels                                     Description  \\\n",
              "0  Negative                                    Buyer beware   \n",
              "1  Negative         Don't try to fool us with fake reviews.   \n",
              "2  Positive  i liked this album more then i thought i would   \n",
              "3  Positive               Is this great TV??? You bet it is   \n",
              "4  Positive                                Alaska sourdough   \n",
              "\n",
              "                                           Text_data  \n",
              "0  [is, selfpublished, book, if, want, know, read...  \n",
              "1  [glaringly, obvious, glowing, reviews, been, w...  \n",
              "2  [heard, song, two, thought, same, when, listen...  \n",
              "3  [hotel, babylon, not, good, tv, great, tv, sho...  \n",
              "4  [read, book, visiting, brother, alaska, loved,...  "
            ]
          },
          "execution_count": 57,
          "metadata": {},
          "output_type": "execute_result"
        }
      ],
      "source": [
        "from string import digits\n",
        "\n",
        "\n",
        "for i in range(len(df)):\n",
        "  for j in range(len(df['Text_data'][i])):\n",
        "    remove_digits = str.maketrans('', '', digits)\n",
        "    res = df['Text_data'][i][j].translate(remove_digits)\n",
        "    df['Text_data'][i][j]=res\n",
        "df.head()"
      ]
    },
    {
      "cell_type": "code",
      "execution_count": 58,
      "metadata": {
        "colab": {
          "base_uri": "https://localhost:8080/",
          "height": 17
        },
        "id": "fQUMwMOf58r2",
        "outputId": "d4505b5f-d5f5-4d3d-ea39-830267fbaa3c"
      },
      "outputs": [],
      "source": [
        "# from google.colab import files\n",
        "# files.download(\"sample1.csv\")"
      ]
    },
    {
      "attachments": {},
      "cell_type": "markdown",
      "metadata": {},
      "source": [
        "<h3>Join all the string for stemming and vectorization</h3>"
      ]
    },
    {
      "cell_type": "code",
      "execution_count": 59,
      "metadata": {},
      "outputs": [
        {
          "data": {
            "text/html": [
              "<div>\n",
              "<style scoped>\n",
              "    .dataframe tbody tr th:only-of-type {\n",
              "        vertical-align: middle;\n",
              "    }\n",
              "\n",
              "    .dataframe tbody tr th {\n",
              "        vertical-align: top;\n",
              "    }\n",
              "\n",
              "    .dataframe thead th {\n",
              "        text-align: right;\n",
              "    }\n",
              "</style>\n",
              "<table border=\"1\" class=\"dataframe\">\n",
              "  <thead>\n",
              "    <tr style=\"text-align: right;\">\n",
              "      <th></th>\n",
              "      <th>labels</th>\n",
              "      <th>Description</th>\n",
              "      <th>Text_data</th>\n",
              "    </tr>\n",
              "  </thead>\n",
              "  <tbody>\n",
              "    <tr>\n",
              "      <th>0</th>\n",
              "      <td>Negative</td>\n",
              "      <td>Buyer beware</td>\n",
              "      <td>is selfpublished book if want know read paragr...</td>\n",
              "    </tr>\n",
              "    <tr>\n",
              "      <th>1</th>\n",
              "      <td>Negative</td>\n",
              "      <td>Don't try to fool us with fake reviews.</td>\n",
              "      <td>glaringly obvious glowing reviews been written...</td>\n",
              "    </tr>\n",
              "    <tr>\n",
              "      <th>2</th>\n",
              "      <td>Positive</td>\n",
              "      <td>i liked this album more then i thought i would</td>\n",
              "      <td>heard song two thought same when listened song...</td>\n",
              "    </tr>\n",
              "    <tr>\n",
              "      <th>3</th>\n",
              "      <td>Positive</td>\n",
              "      <td>Is this great TV??? You bet it is</td>\n",
              "      <td>hotel babylon not good tv great tv show featur...</td>\n",
              "    </tr>\n",
              "    <tr>\n",
              "      <th>4</th>\n",
              "      <td>Positive</td>\n",
              "      <td>Alaska sourdough</td>\n",
              "      <td>read book visiting brother alaska loved am goi...</td>\n",
              "    </tr>\n",
              "  </tbody>\n",
              "</table>\n",
              "</div>"
            ],
            "text/plain": [
              "     labels                                     Description  \\\n",
              "0  Negative                                    Buyer beware   \n",
              "1  Negative         Don't try to fool us with fake reviews.   \n",
              "2  Positive  i liked this album more then i thought i would   \n",
              "3  Positive               Is this great TV??? You bet it is   \n",
              "4  Positive                                Alaska sourdough   \n",
              "\n",
              "                                           Text_data  \n",
              "0  is selfpublished book if want know read paragr...  \n",
              "1  glaringly obvious glowing reviews been written...  \n",
              "2  heard song two thought same when listened song...  \n",
              "3  hotel babylon not good tv great tv show featur...  \n",
              "4  read book visiting brother alaska loved am goi...  "
            ]
          },
          "execution_count": 59,
          "metadata": {},
          "output_type": "execute_result"
        }
      ],
      "source": [
        "for i in range(0,len(df)):\n",
        "  s1=' '.join(df['Text_data'][i])\n",
        "  df['Text_data'][i]=str(s1)\n",
        "df.head()"
      ]
    },
    {
      "cell_type": "code",
      "execution_count": 60,
      "metadata": {},
      "outputs": [
        {
          "data": {
            "text/html": [
              "<div>\n",
              "<style scoped>\n",
              "    .dataframe tbody tr th:only-of-type {\n",
              "        vertical-align: middle;\n",
              "    }\n",
              "\n",
              "    .dataframe tbody tr th {\n",
              "        vertical-align: top;\n",
              "    }\n",
              "\n",
              "    .dataframe thead th {\n",
              "        text-align: right;\n",
              "    }\n",
              "</style>\n",
              "<table border=\"1\" class=\"dataframe\">\n",
              "  <thead>\n",
              "    <tr style=\"text-align: right;\">\n",
              "      <th></th>\n",
              "      <th>labels</th>\n",
              "      <th>Description</th>\n",
              "      <th>Text_data</th>\n",
              "    </tr>\n",
              "  </thead>\n",
              "  <tbody>\n",
              "    <tr>\n",
              "      <th>0</th>\n",
              "      <td>Negative</td>\n",
              "      <td>Buyer beware</td>\n",
              "      <td>is selfpublished book if want know read paragr...</td>\n",
              "    </tr>\n",
              "    <tr>\n",
              "      <th>1</th>\n",
              "      <td>Negative</td>\n",
              "      <td>Don't try to fool us with fake reviews.</td>\n",
              "      <td>glaringly obvious glowing reviews been written...</td>\n",
              "    </tr>\n",
              "    <tr>\n",
              "      <th>2</th>\n",
              "      <td>Positive</td>\n",
              "      <td>i liked this album more then i thought i would</td>\n",
              "      <td>heard song two thought same when listened song...</td>\n",
              "    </tr>\n",
              "    <tr>\n",
              "      <th>3</th>\n",
              "      <td>Positive</td>\n",
              "      <td>Is this great TV??? You bet it is</td>\n",
              "      <td>hotel babylon not good tv great tv show featur...</td>\n",
              "    </tr>\n",
              "    <tr>\n",
              "      <th>4</th>\n",
              "      <td>Positive</td>\n",
              "      <td>Alaska sourdough</td>\n",
              "      <td>read book visiting brother alaska loved am goi...</td>\n",
              "    </tr>\n",
              "    <tr>\n",
              "      <th>5</th>\n",
              "      <td>Positive</td>\n",
              "      <td>Nice for the money</td>\n",
              "      <td>first one bought defective dvd nt work purchas...</td>\n",
              "    </tr>\n",
              "    <tr>\n",
              "      <th>6</th>\n",
              "      <td>Positive</td>\n",
              "      <td>Homer or Moses?</td>\n",
              "      <td>extremely helpful gem complex subject second c...</td>\n",
              "    </tr>\n",
              "    <tr>\n",
              "      <th>7</th>\n",
              "      <td>Positive</td>\n",
              "      <td>Rapunzel</td>\n",
              "      <td>is great game my year old son year old daughte...</td>\n",
              "    </tr>\n",
              "    <tr>\n",
              "      <th>8</th>\n",
              "      <td>Negative</td>\n",
              "      <td>Very disappointed!</td>\n",
              "      <td>perfume just awful smells nothing like freesia...</td>\n",
              "    </tr>\n",
              "    <tr>\n",
              "      <th>9</th>\n",
              "      <td>Positive</td>\n",
              "      <td>comfy,warm.. but run big</td>\n",
              "      <td>like title says warm comfy run size big nt wea...</td>\n",
              "    </tr>\n",
              "  </tbody>\n",
              "</table>\n",
              "</div>"
            ],
            "text/plain": [
              "     labels                                     Description  \\\n",
              "0  Negative                                    Buyer beware   \n",
              "1  Negative         Don't try to fool us with fake reviews.   \n",
              "2  Positive  i liked this album more then i thought i would   \n",
              "3  Positive               Is this great TV??? You bet it is   \n",
              "4  Positive                                Alaska sourdough   \n",
              "5  Positive                              Nice for the money   \n",
              "6  Positive                                 Homer or Moses?   \n",
              "7  Positive                                        Rapunzel   \n",
              "8  Negative                              Very disappointed!   \n",
              "9  Positive                        comfy,warm.. but run big   \n",
              "\n",
              "                                           Text_data  \n",
              "0  is selfpublished book if want know read paragr...  \n",
              "1  glaringly obvious glowing reviews been written...  \n",
              "2  heard song two thought same when listened song...  \n",
              "3  hotel babylon not good tv great tv show featur...  \n",
              "4  read book visiting brother alaska loved am goi...  \n",
              "5  first one bought defective dvd nt work purchas...  \n",
              "6  extremely helpful gem complex subject second c...  \n",
              "7  is great game my year old son year old daughte...  \n",
              "8  perfume just awful smells nothing like freesia...  \n",
              "9  like title says warm comfy run size big nt wea...  "
            ]
          },
          "execution_count": 60,
          "metadata": {},
          "output_type": "execute_result"
        }
      ],
      "source": [
        "len(df['Text_data'][0])\n",
        "df.head(10)"
      ]
    },
    {
      "cell_type": "code",
      "execution_count": 61,
      "metadata": {},
      "outputs": [],
      "source": [
        "df.to_csv('train_combine.csv', index=False)"
      ]
    },
    {
      "cell_type": "code",
      "execution_count": 62,
      "metadata": {},
      "outputs": [
        {
          "data": {
            "text/html": [
              "<div>\n",
              "<style scoped>\n",
              "    .dataframe tbody tr th:only-of-type {\n",
              "        vertical-align: middle;\n",
              "    }\n",
              "\n",
              "    .dataframe tbody tr th {\n",
              "        vertical-align: top;\n",
              "    }\n",
              "\n",
              "    .dataframe thead th {\n",
              "        text-align: right;\n",
              "    }\n",
              "</style>\n",
              "<table border=\"1\" class=\"dataframe\">\n",
              "  <thead>\n",
              "    <tr style=\"text-align: right;\">\n",
              "      <th></th>\n",
              "      <th>labels</th>\n",
              "      <th>Description</th>\n",
              "      <th>Text_data</th>\n",
              "    </tr>\n",
              "  </thead>\n",
              "  <tbody>\n",
              "    <tr>\n",
              "      <th>0</th>\n",
              "      <td>Negative</td>\n",
              "      <td>Buyer beware</td>\n",
              "      <td>is selfpublished book if want know read paragr...</td>\n",
              "    </tr>\n",
              "    <tr>\n",
              "      <th>1</th>\n",
              "      <td>Negative</td>\n",
              "      <td>Don't try to fool us with fake reviews.</td>\n",
              "      <td>glaringly obvious glowing reviews been written...</td>\n",
              "    </tr>\n",
              "    <tr>\n",
              "      <th>2</th>\n",
              "      <td>Positive</td>\n",
              "      <td>i liked this album more then i thought i would</td>\n",
              "      <td>heard song two thought same when listened song...</td>\n",
              "    </tr>\n",
              "    <tr>\n",
              "      <th>3</th>\n",
              "      <td>Positive</td>\n",
              "      <td>Is this great TV??? You bet it is</td>\n",
              "      <td>hotel babylon not good tv great tv show featur...</td>\n",
              "    </tr>\n",
              "    <tr>\n",
              "      <th>4</th>\n",
              "      <td>Positive</td>\n",
              "      <td>Alaska sourdough</td>\n",
              "      <td>read book visiting brother alaska loved am goi...</td>\n",
              "    </tr>\n",
              "  </tbody>\n",
              "</table>\n",
              "</div>"
            ],
            "text/plain": [
              "     labels                                     Description  \\\n",
              "0  Negative                                    Buyer beware   \n",
              "1  Negative         Don't try to fool us with fake reviews.   \n",
              "2  Positive  i liked this album more then i thought i would   \n",
              "3  Positive               Is this great TV??? You bet it is   \n",
              "4  Positive                                Alaska sourdough   \n",
              "\n",
              "                                           Text_data  \n",
              "0  is selfpublished book if want know read paragr...  \n",
              "1  glaringly obvious glowing reviews been written...  \n",
              "2  heard song two thought same when listened song...  \n",
              "3  hotel babylon not good tv great tv show featur...  \n",
              "4  read book visiting brother alaska loved am goi...  "
            ]
          },
          "execution_count": 62,
          "metadata": {},
          "output_type": "execute_result"
        }
      ],
      "source": [
        "df1=pd.read_csv('train_combine.csv')\n",
        "df1.head()"
      ]
    }
  ],
  "metadata": {
    "colab": {
      "provenance": []
    },
    "kernelspec": {
      "display_name": "Python 3",
      "name": "python3"
    },
    "language_info": {
      "codemirror_mode": {
        "name": "ipython",
        "version": 3
      },
      "file_extension": ".py",
      "mimetype": "text/x-python",
      "name": "python",
      "nbconvert_exporter": "python",
      "pygments_lexer": "ipython3",
      "version": "3.11.4"
    }
  },
  "nbformat": 4,
  "nbformat_minor": 0
}
